{
 "cells": [
  {
   "cell_type": "markdown",
   "metadata": {},
   "source": [
    "# Multi-Armed Bandit \n",
    "\n",
    "Multi-Armed Bandits are a type of Reinforcement Learning algorithmn that is used to learn the best actions to maximize an expected gain. The algorithm learns about the distribution of the gain for the different actions over time by using an exploration(aquire new knowledge and exploitation(optimize the decisions based on existing knowledge) tradeoff stragegy. The agent attempts to balance these competing tasks in order to maximize the total gain over time.\n",
    "\n",
    "\n",
    "## Epsilon Greedy\n",
    "$\\epsilon$ = probability of exploration.  This is the is the percentage of exploration actions the agent will take. For example if $\\epsilon$=0.05, then 5% of actions will be exploration, and 95% will be exploitation. \n",
    "\n",
    "Epsilon Greedy allows the agent to explore all actions. The agent learns the best actions by updating the mean of each bandit after each action is taken. \n",
    "\n",
    "After the optimal actions are identified, the epsilon greedy algorithm will still explore suboptimal actions at the rate of $\\epsilon$.\n",
    "\n",
    "## Optimistic Initialization\n",
    "Optimistic intialization is an alternative to the epsilon greedy algorithm. It forces the agent to explore all actions by setting the inital mean of all the bandits as very high, ie an upper limit. Means should be selected to be much higher than what the true mean could be. This forces the agent to explore all the bandits, and the bandit's means will decrease quickly. \n",
    "\n",
    "## UCB1\n",
    "Similar to optimistic initalization, UCB1 initializes the mean of the bandits using an upper bound. This upper bound is based on confidence bounds and is determined by the Hoeffding’s Inequality.\n",
    "$$P\\{|\\bar{X}-\\mu| \\geq \\epsilon\\} \\leq 2e^{-2\\epsilon^2N}$$\n",
    "which rearranges to an upper bound on the mean for the jth bandit\n",
    "$$X_{UCB-j}=\\bar{X_j}+\\sqrt{2\\frac{lnN}{N_j}}$$\n",
    "Where N is the number of times all bandits have been played. \n",
    "\n",
    "This allows the initialized mean values of the bandits to shrink as the agent tries each bandit, and becomes more confident in our estimate of the bandits true mean. \n",
    "\n",
    "## Bayesian Multi-Armed Bandits\n",
    "\n",
    "In the bayesian multiarmed bandit, the an upper limit is used to initalize the means of the bandits. The upper limit is a upper confidence bound calculated using a distribution of the mean given the observed data, $p(\\mu|X)$. This is the posterior of $\\mu$.\n",
    "\n",
    "We use bayes rule to calculate the posterior. \n",
    "\n",
    "$$p(\\mu|X)=p(X|\\mu)p(\\mu)$$\n",
    "\n",
    "We assume X follow a normal $X \\sim Normal(\\mu, \\sigma^2/N)$.\n",
    "\n",
    "And we put a prior on the mean $\\mu \\sim Beta(a, b)$\n",
    "\n",
    "The upper limit is selected as the max of the samples from each of the bandits. The distribution is fat )has large confidence intervals) when few samples have been observed, and becomes skinnier as we approximate the true mean. "
   ]
  },
  {
   "cell_type": "code",
   "execution_count": 1,
   "metadata": {},
   "outputs": [
    {
     "name": "stderr",
     "output_type": "stream",
     "text": [
      "[nltk_data] Error loading stopwords: <urlopen error [SSL:\n",
      "[nltk_data]     CERTIFICATE_VERIFY_FAILED] certificate verify failed\n",
      "[nltk_data]     (_ssl.c:852)>\n"
     ]
    }
   ],
   "source": [
    "from src.reinforcement_learning import GreedyBandit, OptimisticBandit, UCB1Bandit, BayesianBandit"
   ]
  },
  {
   "cell_type": "code",
   "execution_count": 2,
   "metadata": {},
   "outputs": [
    {
     "name": "stdout",
     "output_type": "stream",
     "text": [
      "0.3240988921800319\n",
      "-0.12358302318165576\n",
      "0.4638894015434351\n"
     ]
    }
   ],
   "source": [
    "bandits = GreedyBandit.perform_epsilon_greedy(bandit_true_means=[0.01, 0.05, 0.5], N=1000, epsilon=0.1)\n",
    "for b in bandits: print(b.mean)   "
   ]
  },
  {
   "cell_type": "code",
   "execution_count": 3,
   "metadata": {},
   "outputs": [
    {
     "name": "stdout",
     "output_type": "stream",
     "text": [
      "0.01\n",
      "0.05\n",
      "10.027430964714014\n"
     ]
    }
   ],
   "source": [
    "bandits = OptimisticBandit.perform_optimistic_initialization(bandit_true_means=[0.01, 0.05, 0.5], N=1000, upper_limit=10)\n",
    "for b in bandits: print(b.mean)"
   ]
  },
  {
   "cell_type": "code",
   "execution_count": 4,
   "metadata": {},
   "outputs": [
    {
     "name": "stdout",
     "output_type": "stream",
     "text": [
      "-0.15758289528088903\n",
      "0.07391454734037159\n",
      "0.5289299000260973\n"
     ]
    }
   ],
   "source": [
    "bandits = UCB1Bandit.perform_ucb1(bandit_true_means=[0.01, 0.05, 0.5], N=1000, upper_limit=10)\n",
    "for b in bandits: print(b.mean)"
   ]
  },
  {
   "cell_type": "code",
   "execution_count": 5,
   "metadata": {},
   "outputs": [
    {
     "name": "stdout",
     "output_type": "stream",
     "text": [
      "-0.17496495351505484\n",
      "0.07355781455511881\n",
      "0\n"
     ]
    }
   ],
   "source": [
    "bandits = BayesianBandit.perform_bayesian_bandits(bandit_true_means=[0.01, 0.05, 0.5], N=1000)\n",
    "for b in bandits: print(b.mean)"
   ]
  },
  {
   "cell_type": "markdown",
   "metadata": {},
   "source": [
    "# Contexual Multi-Armed Bandits for Recommender System\n",
    "\n",
    "Contexual Multi-Armed Bandits use the MAB framework to recommend items to users. Actions are decided based on the expected reward, and based on a state learned from the user's data. As a result, the recommendations are personalized at the user level. \n",
    "\n",
    "\"The algorithm observes a context, makes a decision, choosing one action from a number of alternative actions, and observes an outcome of that decision. An outcome defines a reward. The goal is to maximize average reward.\"\n",
    "\n",
    "Why this and not a traditional ML algorithm that retrains when it gets new info?\n",
    "* cause of cold start. It makes informed neighborhood recs that optimize the probability they will enage with eh the item quickly, and give us engagemetn sthat will segment.\n",
    "* Not cause of live learning. i mean you get taht from retraining it would update with new info\n",
    "* cause of explore exploit tradeoff? Np. a trained ML algo would still explore in a sense it would recoomemdn things we _think_ they would like, but when retrain we encorporate what we learned from taht smart exploration. \n",
    "* So why then? Just cold start? Yeah. Both rec cold start and frequency are same problem. No data on the user yet. \n",
    "\n",
    "A particularly useful version of the multi-armed bandit is the contextual multi-armed bandit problem. In this problem, in each iteration an agent has to choose between arms. Before making the choice, the agent sees a d-dimensional feature vector (context vector), associated with the current iteration. The learner uses these context vectors along with the rewards of the arms played in the past to make the choice of the arm to play in the current iteration. Over time, the learner's aim is to collect enough information about how the context vectors and rewards relate to each other, so that it can predict the next best arm to play by looking at the feature vectors\n",
    "\n",
    "\n",
    "Can I crete a bayesian network/graphical model similar to VAE to model this?\n",
    "\n",
    "I want to use MAB to solve 2 challenges in recommender systems:\n",
    "1. The cold start problem. \n",
    "\n",
    "Recommend items to new users in a way that will optimize our chances of them engaging with the item. Goal is to collect interaction data from these new users so that we can train a ML recommender. The items shown to users should have a high change of being interacted with, while still informing us about the kind of user they are, meaning the items should represent distinct clusters of users. =  The baselien for this is popularity recs, and it is expected to outperform because the items shown can segment users instead of jsut get interactions.  \n",
    "\n",
    "2. Make frequency of contact recommendations that drive engagement in the environment where there is not enough variance in historical data to train an ML model, and more items will always increase cliks, but cause user fautifue resulting in unsubscribes. This leaverages the explor exploit tradeoff that MAB's offer, while solving the existing cold start problem. \n",
    "\n",
    "For frequency optimization, frequency has not changed at all. Meaning each user has only seem one item. The goal is to use the MAB to vary frequency in real time while optimizing the tradeoff between engagements and dissengagements. \n",
    "\n",
    "The MAB balances the tradeoff between exploitation and exploration, which will allow us to safely vary frequency enough to learn the right policy, while maximizing the customers probability of engaging. \n",
    "\n"
   ]
  },
  {
   "cell_type": "markdown",
   "metadata": {},
   "source": [
    "# Example - Contexual Multi-Armed Bandits Book Recommender"
   ]
  },
  {
   "cell_type": "markdown",
   "metadata": {},
   "source": [
    "## Formatting the data"
   ]
  },
  {
   "cell_type": "code",
   "execution_count": 410,
   "metadata": {},
   "outputs": [
    {
     "name": "stdout",
     "output_type": "stream",
     "text": [
      "7842 unique users\n",
      "15 unique books\n",
      "(1676, 3)\n"
     ]
    },
    {
     "data": {
      "text/html": [
       "<div>\n",
       "<style scoped>\n",
       "    .dataframe tbody tr th:only-of-type {\n",
       "        vertical-align: middle;\n",
       "    }\n",
       "\n",
       "    .dataframe tbody tr th {\n",
       "        vertical-align: top;\n",
       "    }\n",
       "\n",
       "    .dataframe thead th {\n",
       "        text-align: right;\n",
       "    }\n",
       "</style>\n",
       "<table border=\"1\" class=\"dataframe\">\n",
       "  <thead>\n",
       "    <tr style=\"text-align: right;\">\n",
       "      <th></th>\n",
       "      <th>user</th>\n",
       "      <th>isbn</th>\n",
       "      <th>rating</th>\n",
       "    </tr>\n",
       "  </thead>\n",
       "  <tbody>\n",
       "    <tr>\n",
       "      <th>1965</th>\n",
       "      <td>277439</td>\n",
       "      <td>0316666343</td>\n",
       "      <td>7</td>\n",
       "    </tr>\n",
       "    <tr>\n",
       "      <th>1973</th>\n",
       "      <td>277439</td>\n",
       "      <td>0671027360</td>\n",
       "      <td>7</td>\n",
       "    </tr>\n",
       "    <tr>\n",
       "      <th>9962</th>\n",
       "      <td>243</td>\n",
       "      <td>0316601950</td>\n",
       "      <td>9</td>\n",
       "    </tr>\n",
       "  </tbody>\n",
       "</table>\n",
       "</div>"
      ],
      "text/plain": [
       "        user        isbn  rating\n",
       "1965  277439  0316666343       7\n",
       "1973  277439  0671027360       7\n",
       "9962     243  0316601950       9"
      ]
     },
     "execution_count": 410,
     "metadata": {},
     "output_type": "execute_result"
    }
   ],
   "source": [
    "import pandas as pd\n",
    "import numpy as np\n",
    "import matplotlib.pyplot as plt\n",
    "import seaborn as sns, numpy as np\n",
    "\n",
    "books = pd.read_csv('data/book_ratings.csv', sep=\";\", escapechar='\\\\', encoding='CP1252', low_memory=False)\n",
    "books.columns = [\"user\", \"isbn\", \"rating\"]\n",
    "\n",
    "#subset data to top n books\n",
    "n=15\n",
    "top_n_books = books.isbn.value_counts().index[:n].tolist()\n",
    "books = books.query('isbn in @top_n_books')\n",
    "print(\"{} unique users\".format(books.user.nunique()))\n",
    "print(\"{} unique books\".format(books.isbn.nunique()))\n",
    "\n",
    "#remove read but unrated books\n",
    "books = books.query('rating > 0')\n",
    "\n",
    "#remove users who only rated one thing. \n",
    "vc = books.user.value_counts()\n",
    "keep_users = vc[vc > 1].index\n",
    "\n",
    "books = books.query('user in @keep_users')\n",
    "\n",
    "print(books.shape)\n",
    "books.head(3)"
   ]
  },
  {
   "cell_type": "code",
   "execution_count": 411,
   "metadata": {},
   "outputs": [
    {
     "data": {
      "image/png": "[encoded data removed]",
      "text/plain": [
       "<Figure size 432x288 with 1 Axes>"
      ]
     },
     "metadata": {},
     "output_type": "display_data"
    },
    {
     "name": "stdout",
     "output_type": "stream",
     "text": [
      "Average rating: 8.0507\n"
     ]
    }
   ],
   "source": [
    "#ratings are on a scale of 1-10.\n",
    "books.rating.value_counts().plot(kind=\"bar\")\n",
    "plt.show()\n",
    "print(\"Average rating: {}\".format(np.round(books.rating.mean(),4)))"
   ]
  },
  {
   "cell_type": "code",
   "execution_count": 412,
   "metadata": {},
   "outputs": [
    {
     "name": "stdout",
     "output_type": "stream",
     "text": [
      "Average number of ratings per user: 2.4396\n"
     ]
    },
    {
     "data": {
      "image/png": "[encoded data removed]",
      "text/plain": [
       "<Figure size 432x288 with 1 Axes>"
      ]
     },
     "metadata": {},
     "output_type": "display_data"
    }
   ],
   "source": [
    "#how many books are people rating on average?\n",
    "sns.set(); np.random.seed(0)\n",
    "x = books.user.value_counts()\n",
    "ax = sns.distplot(x)\n",
    "print(\"Average number of ratings per user: {}\".format(np.round(x.mean(),4)))"
   ]
  },
  {
   "cell_type": "code",
   "execution_count": 413,
   "metadata": {},
   "outputs": [
    {
     "data": {
      "text/html": [
       "<div>\n",
       "<style scoped>\n",
       "    .dataframe tbody tr th:only-of-type {\n",
       "        vertical-align: middle;\n",
       "    }\n",
       "\n",
       "    .dataframe tbody tr th {\n",
       "        vertical-align: top;\n",
       "    }\n",
       "\n",
       "    .dataframe thead th {\n",
       "        text-align: right;\n",
       "    }\n",
       "</style>\n",
       "<table border=\"1\" class=\"dataframe\">\n",
       "  <thead>\n",
       "    <tr style=\"text-align: right;\">\n",
       "      <th></th>\n",
       "      <th>user</th>\n",
       "      <th>isbn</th>\n",
       "      <th>rating</th>\n",
       "      <th>action</th>\n",
       "    </tr>\n",
       "  </thead>\n",
       "  <tbody>\n",
       "    <tr>\n",
       "      <th>1965</th>\n",
       "      <td>277439</td>\n",
       "      <td>0316666343</td>\n",
       "      <td>7</td>\n",
       "      <td>0</td>\n",
       "    </tr>\n",
       "    <tr>\n",
       "      <th>1973</th>\n",
       "      <td>277439</td>\n",
       "      <td>0671027360</td>\n",
       "      <td>7</td>\n",
       "      <td>1</td>\n",
       "    </tr>\n",
       "    <tr>\n",
       "      <th>9962</th>\n",
       "      <td>243</td>\n",
       "      <td>0316601950</td>\n",
       "      <td>9</td>\n",
       "      <td>2</td>\n",
       "    </tr>\n",
       "    <tr>\n",
       "      <th>10001</th>\n",
       "      <td>243</td>\n",
       "      <td>044023722X</td>\n",
       "      <td>7</td>\n",
       "      <td>3</td>\n",
       "    </tr>\n",
       "    <tr>\n",
       "      <th>10084</th>\n",
       "      <td>254</td>\n",
       "      <td>0142001740</td>\n",
       "      <td>9</td>\n",
       "      <td>4</td>\n",
       "    </tr>\n",
       "  </tbody>\n",
       "</table>\n",
       "</div>"
      ],
      "text/plain": [
       "         user        isbn  rating  action\n",
       "1965   277439  0316666343       7       0\n",
       "1973   277439  0671027360       7       1\n",
       "9962      243  0316601950       9       2\n",
       "10001     243  044023722X       7       3\n",
       "10084     254  0142001740       9       4"
      ]
     },
     "execution_count": 413,
     "metadata": {},
     "output_type": "execute_result"
    }
   ],
   "source": [
    "#make action columns\n",
    "books[\"action\"] = books[\"isbn\"]\n",
    "book_action_mapping = dict(zip(books.action.unique(), range(15)))\n",
    "action_book_mapping = dict(zip(range(15), books.action.unique()))\n",
    "feature_names = list(book_action_mapping.keys())\n",
    "books = books.replace({\"action\": book_action_mapping})\n",
    "books.head()"
   ]
  },
  {
   "cell_type": "code",
   "execution_count": 414,
   "metadata": {},
   "outputs": [],
   "source": [
    "#make context column\n",
    "\n",
    "books_context = books.pivot(index='user', columns='isbn', values='rating')\n",
    "books_context.fillna(0, inplace=True)\n",
    "\n",
    "books = pd.merge(books, books_context, left_on=\"user\", right_index=True, how=\"left\")\n",
    "books.reset_index(inplace=True, drop=True)"
   ]
  },
  {
   "cell_type": "code",
   "execution_count": 421,
   "metadata": {},
   "outputs": [
    {
     "name": "stderr",
     "output_type": "stream",
     "text": [
      "/Users/clongo/Documents/Work/prof_dev/recommender_engines/venv/lib/python3.6/site-packages/ipykernel_launcher.py:14: SettingWithCopyWarning: \n",
      "A value is trying to be set on a copy of a slice from a DataFrame.\n",
      "Try using .loc[row_indexer,col_indexer] = value instead\n",
      "\n",
      "See the caveats in the documentation: http://pandas.pydata.org/pandas-docs/stable/indexing.html#indexing-view-versus-copy\n",
      "  \n",
      "/Users/clongo/Documents/Work/prof_dev/recommender_engines/venv/lib/python3.6/site-packages/ipykernel_launcher.py:15: SettingWithCopyWarning: \n",
      "A value is trying to be set on a copy of a slice from a DataFrame.\n",
      "Try using .loc[row_indexer,col_indexer] = value instead\n",
      "\n",
      "See the caveats in the documentation: http://pandas.pydata.org/pandas-docs/stable/indexing.html#indexing-view-versus-copy\n",
      "  from ipykernel import kernelapp as app\n",
      "/Users/clongo/Documents/Work/prof_dev/recommender_engines/venv/lib/python3.6/site-packages/ipykernel_launcher.py:16: SettingWithCopyWarning: \n",
      "A value is trying to be set on a copy of a slice from a DataFrame.\n",
      "Try using .loc[row_indexer,col_indexer] = value instead\n",
      "\n",
      "See the caveats in the documentation: http://pandas.pydata.org/pandas-docs/stable/indexing.html#indexing-view-versus-copy\n",
      "  app.launch_new_instance()\n"
     ]
    },
    {
     "data": {
      "image/png": "[encoded data removed]",
      "text/plain": [
       "<Figure size 432x288 with 1 Axes>"
      ]
     },
     "metadata": {},
     "output_type": "display_data"
    }
   ],
   "source": [
    "#vizualize to see if there are distinct groups\n",
    "\n",
    "from sklearn.decomposition import PCA\n",
    "from sklearn.cluster import KMeans\n",
    "\n",
    "books_no_duplicates = books.drop_duplicates(\"user\")\n",
    "\n",
    "pca = PCA(n_components=2)\n",
    "pca_matrix = pca.fit_transform(books_no_duplicates[feature_names]) \n",
    "\n",
    "kmeans = KMeans(n_clusters=4, random_state=0)\n",
    "groups = kmeans.fit_predict(pca_matrix)\n",
    "\n",
    "books_no_duplicates[\"PC1\"] = pca_matrix[:,0]\n",
    "books_no_duplicates[\"PC2\"] = pca_matrix[:,1]\n",
    "books_no_duplicates[\"groups\"] = groups\n",
    "\n",
    "plt.scatter(books_no_duplicates.query('groups==0').PC1, books_no_duplicates.query('groups==0').PC2, label='group1');\n",
    "plt.scatter(books_no_duplicates.query('groups==1').PC1, books_no_duplicates.query('groups==1').PC2, label='group2');\n",
    "plt.scatter(books_no_duplicates.query('groups==2').PC1, books_no_duplicates.query('groups==2').PC2, label='group3');\n",
    "plt.scatter(books_no_duplicates.query('groups==3').PC1, books_no_duplicates.query('groups==3').PC2, label='group4');\n",
    "plt.legend();"
   ]
  },
  {
   "cell_type": "code",
   "execution_count": 422,
   "metadata": {},
   "outputs": [],
   "source": [
    "all_context=[]\n",
    "for i in books.index:\n",
    "    action =  books.loc[i].action\n",
    "    context = books.loc[i, feature_names].values.astype(float)\n",
    "    context[action] = 0\n",
    "    all_context.append(context)\n",
    "\n",
    "books[\"context\"] = all_context"
   ]
  },
  {
   "cell_type": "code",
   "execution_count": 423,
   "metadata": {},
   "outputs": [
    {
     "data": {
      "text/html": [
       "<div>\n",
       "<style scoped>\n",
       "    .dataframe tbody tr th:only-of-type {\n",
       "        vertical-align: middle;\n",
       "    }\n",
       "\n",
       "    .dataframe tbody tr th {\n",
       "        vertical-align: top;\n",
       "    }\n",
       "\n",
       "    .dataframe thead th {\n",
       "        text-align: right;\n",
       "    }\n",
       "</style>\n",
       "<table border=\"1\" class=\"dataframe\">\n",
       "  <thead>\n",
       "    <tr style=\"text-align: right;\">\n",
       "      <th></th>\n",
       "      <th>user</th>\n",
       "      <th>action</th>\n",
       "      <th>rating</th>\n",
       "      <th>context</th>\n",
       "    </tr>\n",
       "  </thead>\n",
       "  <tbody>\n",
       "    <tr>\n",
       "      <th>0</th>\n",
       "      <td>277439</td>\n",
       "      <td>0</td>\n",
       "      <td>7</td>\n",
       "      <td>[0.0, 7.0, 0.0, 0.0, 0.0, 0.0, 0.0, 0.0, 0.0, ...</td>\n",
       "    </tr>\n",
       "    <tr>\n",
       "      <th>1</th>\n",
       "      <td>277439</td>\n",
       "      <td>1</td>\n",
       "      <td>7</td>\n",
       "      <td>[7.0, 0.0, 0.0, 0.0, 0.0, 0.0, 0.0, 0.0, 0.0, ...</td>\n",
       "    </tr>\n",
       "    <tr>\n",
       "      <th>2</th>\n",
       "      <td>243</td>\n",
       "      <td>2</td>\n",
       "      <td>9</td>\n",
       "      <td>[0.0, 0.0, 0.0, 7.0, 0.0, 0.0, 0.0, 0.0, 0.0, ...</td>\n",
       "    </tr>\n",
       "    <tr>\n",
       "      <th>3</th>\n",
       "      <td>243</td>\n",
       "      <td>3</td>\n",
       "      <td>7</td>\n",
       "      <td>[0.0, 0.0, 9.0, 0.0, 0.0, 0.0, 0.0, 0.0, 0.0, ...</td>\n",
       "    </tr>\n",
       "    <tr>\n",
       "      <th>4</th>\n",
       "      <td>254</td>\n",
       "      <td>4</td>\n",
       "      <td>9</td>\n",
       "      <td>[0.0, 0.0, 0.0, 0.0, 0.0, 8.0, 0.0, 0.0, 0.0, ...</td>\n",
       "    </tr>\n",
       "  </tbody>\n",
       "</table>\n",
       "</div>"
      ],
      "text/plain": [
       "     user  action  rating                                            context\n",
       "0  277439       0       7  [0.0, 7.0, 0.0, 0.0, 0.0, 0.0, 0.0, 0.0, 0.0, ...\n",
       "1  277439       1       7  [7.0, 0.0, 0.0, 0.0, 0.0, 0.0, 0.0, 0.0, 0.0, ...\n",
       "2     243       2       9  [0.0, 0.0, 0.0, 7.0, 0.0, 0.0, 0.0, 0.0, 0.0, ...\n",
       "3     243       3       7  [0.0, 0.0, 9.0, 0.0, 0.0, 0.0, 0.0, 0.0, 0.0, ...\n",
       "4     254       4       9  [0.0, 0.0, 0.0, 0.0, 0.0, 8.0, 0.0, 0.0, 0.0, ..."
      ]
     },
     "execution_count": 423,
     "metadata": {},
     "output_type": "execute_result"
    }
   ],
   "source": [
    "books = books[[\"user\", \"action\", \"rating\", \"context\"]]\n",
    "books.head()"
   ]
  },
  {
   "cell_type": "code",
   "execution_count": 424,
   "metadata": {},
   "outputs": [],
   "source": [
    "books[\"reward\"] = 3\n",
    "books.loc[books.rating <= 7, \"reward\"] = 1\n",
    "books.loc[books.rating  <= 5, \"reward\"] = -2\n",
    "books.loc[books.rating  <= 3, \"reward\"] = -3"
   ]
  },
  {
   "cell_type": "code",
   "execution_count": 425,
   "metadata": {},
   "outputs": [],
   "source": [
    "#a random test train split\n",
    "from sklearn.model_selection import train_test_split\n",
    "\n",
    "context_train, context_test, books_train, books_test = train_test_split(np.array(all_context), books, test_size=0.33, random_state=42)\n"
   ]
  },
  {
   "cell_type": "markdown",
   "metadata": {},
   "source": [
    "## Linear Bayesian Contexual Multi-Armed Bandits"
   ]
  },
  {
   "cell_type": "code",
   "execution_count": null,
   "metadata": {},
   "outputs": [],
   "source": [
    "#TODO\n",
    "#Why is prediction random and not related to max expected value?\n",
    "#Model is not converged. How to test for converage?\n",
    "#make plots to evaluate onvergance. \n",
    "#Plot decision boundries\n",
    "#plot cumulative reward and regret\n",
    "\n",
    "#sholud reward be rating, or a -1 if <=5 and a +1 > 5?\n",
    "#maybe. Seemed to converge a bit better.\n",
    "#can rescale reward to be on a scale of 0=10 and use it as predicted rating. \n",
    "\n",
    "#get ranked list of predictions\n",
    "#evaluate using map@k and accuracy\n",
    "#get predicted rating for true book\n",
    "#benchmark against popularity ratings\n",
    "\n",
    "#test if it is close to true rating. RMSE.\n",
    "\n",
    "#how long does it take to converge?\n",
    "#does using context make it converge faster, so good for frequency?\n",
    "\n",
    "#clean up this code\n",
    "\n",
    "#apply this to frequency optimization and put in repo somewhere. "
   ]
  },
  {
   "cell_type": "markdown",
   "metadata": {},
   "source": [
    "### Online learning and prediction"
   ]
  },
  {
   "cell_type": "code",
   "execution_count": 426,
   "metadata": {},
   "outputs": [],
   "source": [
    "from space_bandits import LinearBandits\n",
    "\n",
    "\n",
    "num_actions = 15   #fifteen actions (books to recommend)\n",
    "num_features = 15  #fifteen features (15 books)\n",
    "\n",
    "model = LinearBandits(num_actions,\n",
    "                      num_features,\n",
    "                      a0=6,\n",
    "                      b0=6,\n",
    "                      lambda_prior=0.25,\n",
    "                      initial_pulls=2)"
   ]
  },
  {
   "cell_type": "code",
   "execution_count": 427,
   "metadata": {},
   "outputs": [],
   "source": [
    "#update model after each action\n",
    "\n",
    "for i in books_train.index:\n",
    "    context = books_train.loc[i].context\n",
    "    action = books_train.loc[i].action\n",
    "    reward = books_train.loc[i].reward\n",
    "    model.update(context, action, reward)"
   ]
  },
  {
   "cell_type": "code",
   "execution_count": 428,
   "metadata": {},
   "outputs": [
    {
     "name": "stdout",
     "output_type": "stream",
     "text": [
      "model suggested action: \n",
      "5\n",
      "0679781587\n"
     ]
    }
   ],
   "source": [
    "new_context = books_test.iloc[0].context\n",
    "new_action = model.action(new_context)\n",
    "recommendation = action_book_mapping[new_action]\n",
    "formatted_context = pd.DataFrame(new_context).T\n",
    "formatted_context.columns = feature_names\n",
    "\n",
    "print('model suggested action: ')\n",
    "print(new_action)\n",
    "print(recommendation)"
   ]
  },
  {
   "cell_type": "code",
   "execution_count": 429,
   "metadata": {},
   "outputs": [
    {
     "name": "stdout",
     "output_type": "stream",
     "text": [
      "expected values for example context: \n"
     ]
    },
    {
     "data": {
      "text/plain": [
       "array([ 2.5492401 ,  2.29280062,  1.85969375,  1.83662293,  2.65462419,\n",
       "        2.62912071,  2.31467711,  1.56721459,  0.8025336 , -2.33388079,\n",
       "        2.4311899 ,  2.10388664,  1.09628233,  2.24042756,  0.96898055])"
      ]
     },
     "execution_count": 429,
     "metadata": {},
     "output_type": "execute_result"
    }
   ],
   "source": [
    "print('expected values for example context: ')\n",
    "new_context = books_test.iloc[0].context\n",
    "model.expected_values(new_context)"
   ]
  },
  {
   "cell_type": "markdown",
   "metadata": {},
   "source": [
    "### Offline batch fit and predict"
   ]
  },
  {
   "cell_type": "code",
   "execution_count": 430,
   "metadata": {},
   "outputs": [],
   "source": [
    "#use fit and predict method to do batch\n",
    "#evaluate model performance"
   ]
  },
  {
   "cell_type": "code",
   "execution_count": 431,
   "metadata": {},
   "outputs": [],
   "source": [
    "model = LinearBandits(num_actions,\n",
    "                      num_features,\n",
    "                      a0=6,\n",
    "                      b0=6,\n",
    "                      lambda_prior=0.25,\n",
    "                      initial_pulls=2)\n",
    "\n",
    "model.fit(contexts=books_train.context.tolist(),\n",
    "          actions=books_train.action.tolist(),\n",
    "          rewards= books_train.reward.tolist(),\n",
    "          num_updates=50)"
   ]
  },
  {
   "cell_type": "code",
   "execution_count": 432,
   "metadata": {},
   "outputs": [
    {
     "name": "stdout",
     "output_type": "stream",
     "text": [
      "expected values for example context: \n"
     ]
    },
    {
     "data": {
      "text/plain": [
       "array([ 2.5492401 ,  2.29280062,  1.85969375,  1.83662293,  2.65462419,\n",
       "        2.62912071,  2.31467711,  1.56721459,  0.8025336 , -2.33388079,\n",
       "        2.4311899 ,  2.10388664,  1.09628233,  2.24042756,  0.96898055])"
      ]
     },
     "execution_count": 432,
     "metadata": {},
     "output_type": "execute_result"
    }
   ],
   "source": [
    "print('expected values for example context: ')\n",
    "new_context = books_test.iloc[0].context\n",
    "model.expected_values(new_context)"
   ]
  },
  {
   "cell_type": "code",
   "execution_count": 433,
   "metadata": {},
   "outputs": [
    {
     "name": "stdout",
     "output_type": "stream",
     "text": [
      "model suggested action: \n"
     ]
    },
    {
     "data": {
      "text/plain": [
       "13"
      ]
     },
     "execution_count": 433,
     "metadata": {},
     "output_type": "execute_result"
    }
   ],
   "source": [
    "#super fast prediction for one peep\n",
    "print('model suggested action: ')\n",
    "model.action(new_context)"
   ]
  },
  {
   "cell_type": "code",
   "execution_count": 434,
   "metadata": {},
   "outputs": [],
   "source": [
    "#Batch prediction (this is slow)\n",
    "test_pred = model.predict(context_test)\n",
    "test_pred_ratings = model.expected_values(context_test)"
   ]
  },
  {
   "cell_type": "markdown",
   "metadata": {},
   "source": [
    "### Evaluate Convergence"
   ]
  },
  {
   "cell_type": "code",
   "execution_count": null,
   "metadata": {},
   "outputs": [],
   "source": []
  },
  {
   "cell_type": "code",
   "execution_count": null,
   "metadata": {},
   "outputs": [],
   "source": []
  },
  {
   "cell_type": "code",
   "execution_count": null,
   "metadata": {},
   "outputs": [],
   "source": []
  },
  {
   "cell_type": "markdown",
   "metadata": {},
   "source": [
    "### Evaluate model"
   ]
  },
  {
   "cell_type": "code",
   "execution_count": 315,
   "metadata": {},
   "outputs": [
    {
     "name": "stderr",
     "output_type": "stream",
     "text": [
      "/Users/clongo/Documents/Work/prof_dev/recommender_engines/venv/lib/python3.6/site-packages/ipykernel_launcher.py:1: SettingWithCopyWarning: \n",
      "A value is trying to be set on a copy of a slice from a DataFrame.\n",
      "Try using .loc[row_indexer,col_indexer] = value instead\n",
      "\n",
      "See the caveats in the documentation: http://pandas.pydata.org/pandas-docs/stable/indexing.html#indexing-view-versus-copy\n",
      "  \"\"\"Entry point for launching an IPython kernel.\n",
      "/Users/clongo/Documents/Work/prof_dev/recommender_engines/venv/lib/python3.6/site-packages/ipykernel_launcher.py:2: SettingWithCopyWarning: \n",
      "A value is trying to be set on a copy of a slice from a DataFrame.\n",
      "Try using .loc[row_indexer,col_indexer] = value instead\n",
      "\n",
      "See the caveats in the documentation: http://pandas.pydata.org/pandas-docs/stable/indexing.html#indexing-view-versus-copy\n",
      "  \n"
     ]
    },
    {
     "data": {
      "text/plain": [
       "0.04239401496259352"
      ]
     },
     "execution_count": 315,
     "metadata": {},
     "output_type": "execute_result"
    }
   ],
   "source": [
    "books_test[\"predicted\"] = test_pred\n",
    "books_test[\"right\"] = books_test[\"action\"] == books_test[\"predicted\"]\n",
    "\n",
    "good_recs = books_test.query('rating >= 8')\n",
    "len(good_recs.query('right == True'))/len(good_recs)"
   ]
  },
  {
   "cell_type": "code",
   "execution_count": 263,
   "metadata": {},
   "outputs": [
    {
     "name": "stdout",
     "output_type": "stream",
     "text": [
      "Predicted rating : 2.334565542072398\n",
      "recommended book : 3\n"
     ]
    },
    {
     "data": {
      "text/plain": [
       "'044023722X'"
      ]
     },
     "execution_count": 263,
     "metadata": {},
     "output_type": "execute_result"
    }
   ],
   "source": [
    "new_context = books_test.iloc[5].context\n",
    "expected_ratings = model.expected_values(new_context)\n",
    "\n",
    "# Get the indices of maximum element in numpy array\n",
    "numeric_recommendation = np.where(expected_ratings == np.amax(expected_ratings))[0][0]\n",
    " \n",
    "print('Predicted rating :', np.amax(expected_ratings))\n",
    "print('recommended book :', numeric_recommendation)\n",
    "recommendation = action_book_mapping[numeric_recommendation]\n",
    "recommendation"
   ]
  },
  {
   "cell_type": "markdown",
   "metadata": {},
   "source": [
    "## Deep Bayesian Contexual Multi-Armed Bandits"
   ]
  },
  {
   "cell_type": "code",
   "execution_count": null,
   "metadata": {},
   "outputs": [],
   "source": [
    "#TODO"
   ]
  }
 ],
 "metadata": {
  "kernelspec": {
   "display_name": "recommender_engines",
   "language": "python",
   "name": "recommender_engines"
  },
  "language_info": {
   "codemirror_mode": {
    "name": "ipython",
    "version": 3
   },
   "file_extension": ".py",
   "mimetype": "text/x-python",
   "name": "python",
   "nbconvert_exporter": "python",
   "pygments_lexer": "ipython3",
   "version": "3.6.8"
  }
 },
 "nbformat": 4,
 "nbformat_minor": 2
}
