{
 "cells": [
  {
   "cell_type": "code",
   "execution_count": null,
   "metadata": {},
   "outputs": [],
   "source": [
    "# feed in features of embeddings\n",
    "#create sparse matrix from item-feature matrix\n",
    "#calc cosine sim from matrix\n",
    "#Should be able to select different typs of sim metrics\n"
   ]
  },
  {
   "cell_type": "code",
   "execution_count": 2,
   "metadata": {},
   "outputs": [],
   "source": [
    "\n",
    "import pandas as pd\n",
    "import numpy as np\n",
    "from sklearn.metrics.pairwise import cosine_similarity\n"
   ]
  },
  {
   "cell_type": "code",
   "execution_count": 45,
   "metadata": {},
   "outputs": [
    {
     "data": {
      "text/html": [
       "<div>\n",
       "<style scoped>\n",
       "    .dataframe tbody tr th:only-of-type {\n",
       "        vertical-align: middle;\n",
       "    }\n",
       "\n",
       "    .dataframe tbody tr th {\n",
       "        vertical-align: top;\n",
       "    }\n",
       "\n",
       "    .dataframe thead th {\n",
       "        text-align: right;\n",
       "    }\n",
       "</style>\n",
       "<table border=\"1\" class=\"dataframe\">\n",
       "  <thead>\n",
       "    <tr style=\"text-align: right;\">\n",
       "      <th></th>\n",
       "      <th>f1</th>\n",
       "      <th>f2</th>\n",
       "    </tr>\n",
       "  </thead>\n",
       "  <tbody>\n",
       "    <tr>\n",
       "      <th>0</th>\n",
       "      <td>0.853281</td>\n",
       "      <td>0.331458</td>\n",
       "    </tr>\n",
       "    <tr>\n",
       "      <th>1</th>\n",
       "      <td>0.910494</td>\n",
       "      <td>0.836155</td>\n",
       "    </tr>\n",
       "    <tr>\n",
       "      <th>2</th>\n",
       "      <td>0.237426</td>\n",
       "      <td>0.687891</td>\n",
       "    </tr>\n",
       "    <tr>\n",
       "      <th>3</th>\n",
       "      <td>0.879508</td>\n",
       "      <td>0.892442</td>\n",
       "    </tr>\n",
       "    <tr>\n",
       "      <th>4</th>\n",
       "      <td>0.956701</td>\n",
       "      <td>0.792583</td>\n",
       "    </tr>\n",
       "  </tbody>\n",
       "</table>\n",
       "</div>"
      ],
      "text/plain": [
       "         f1        f2\n",
       "0  0.853281  0.331458\n",
       "1  0.910494  0.836155\n",
       "2  0.237426  0.687891\n",
       "3  0.879508  0.892442\n",
       "4  0.956701  0.792583"
      ]
     },
     "execution_count": 45,
     "metadata": {},
     "output_type": "execute_result"
    }
   ],
   "source": [
    "df = pd.DataFrame([np.random.rand(1, 20)[0], np.random.rand(1, 20)[0]]).T\n",
    "df.columns = [\"f1\", \"f2\"]\n",
    "df.head()"
   ]
  },
  {
   "cell_type": "code",
   "execution_count": 61,
   "metadata": {},
   "outputs": [],
   "source": [
    "import pandas as pd\n",
    "import numpy as np\n",
    "from sklearn.metrics.pairwise import cosine_similarity\n",
    "\n",
    "\n",
    "class ContentRecommender(object):\n",
    "\n",
    "    def get_similar_recommendations(self, seed_item, feature_matrix, similarity_metric, n):\n",
    "        ''' Return top n similar items to a seed item '''\n",
    "        \n",
    "        if similarity_metric not in [\"cosine\", \"euclidean\", \"manhattan\", \"jaccard\"]:\n",
    "            return ValueError(\"similarity_metric must be cosine, euclidean, manhattan, or jaccard\")\n",
    "\n",
    "        #get style variant's feature vector\n",
    "        item_vector = np.array(feature_matrix.loc[seed_item]).reshape(1, -1)\n",
    "\n",
    "        #calculate similarity\n",
    "        similarities = self._choose_similarity(item_vector, feature_matrix, similarity_metric)\n",
    "        similarities = pd.DataFrame(similarities, index = feature_matrix.index.tolist())\n",
    "        similarities.columns = ['similarity_score']\n",
    "        similarities.sort_values('similarity_score', ascending=False, inplace=True)\n",
    "\n",
    "        #return top n similar items with similarity scores\n",
    "        similar_items = similarities.head(n).index.values.tolist()\n",
    "        scores = similarities.head(n).similarity_score.values.tolist()\n",
    "\n",
    "        return {\"similar_items\":similar_items, \"score\":np.round(scores,5)}\n",
    "    \n",
    "    @staticmethod\n",
    "    def _choose_similarity(item_vector, feature_matrix, similarity_metric):\n",
    "\n",
    "        if similarity_metric == \"cosine\":\n",
    "            similarities =  1-pairwise_distances(X=feature_matrix, Y=item_vector, metric=\"cosine\")\n",
    "        elif similarity_metric == \"euclidean\":\n",
    "            similarities = 1-pairwise_distances(X=feature_matrix, Y=item_vector, metric=\"euclidean\")\n",
    "        elif similarity_metric == \"manhattan\":\n",
    "            similarities = 1 - pairwise_distances(X=feature_matrix, Y=item_vector, metric=\"manhattan\")\n",
    "        elif similarity_metric == \"jaccard\":\n",
    "            similarities = 1 - pairwise_distances(X=feature_matrix, Y=item_vector, metric=\"hamming\")\n",
    "        return similarities"
   ]
  },
  {
   "cell_type": "code",
   "execution_count": 62,
   "metadata": {},
   "outputs": [
    {
     "data": {
      "text/plain": [
       "{'similar_items': [0, 15, 18, 11, 8, 9, 16, 1, 12, 4],\n",
       " 'score': array([1.     , 0.75601, 0.7208 , 0.70066, 0.61059, 0.56754, 0.54258,\n",
       "        0.43809, 0.43722, 0.43545])}"
      ]
     },
     "execution_count": 62,
     "metadata": {},
     "output_type": "execute_result"
    }
   ],
   "source": [
    "CF = ContentRecommender()\n",
    "CF.get_similar_recommendations(seed_item=0, feature_matrix=df, similarity_metric=\"manhattan\", n=10)"
   ]
  },
  {
   "cell_type": "code",
   "execution_count": null,
   "metadata": {},
   "outputs": [],
   "source": []
  }
 ],
 "metadata": {
  "kernelspec": {
   "display_name": "recommender_engines",
   "language": "python",
   "name": "recommender_engines"
  },
  "language_info": {
   "codemirror_mode": {
    "name": "ipython",
    "version": 3
   },
   "file_extension": ".py",
   "mimetype": "text/x-python",
   "name": "python",
   "nbconvert_exporter": "python",
   "pygments_lexer": "ipython3",
   "version": "3.7.2"
  }
 },
 "nbformat": 4,
 "nbformat_minor": 2
}
