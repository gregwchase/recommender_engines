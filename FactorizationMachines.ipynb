{
 "cells": [
  {
   "cell_type": "code",
   "execution_count": 1,
   "metadata": {},
   "outputs": [],
   "source": [
    "import pandas as pd\n",
    "import numpy as np"
   ]
  },
  {
   "cell_type": "markdown",
   "metadata": {},
   "source": [
    "# Factorization Machines"
   ]
  },
  {
   "cell_type": "code",
   "execution_count": 2,
   "metadata": {},
   "outputs": [
    {
     "name": "stderr",
     "output_type": "stream",
     "text": [
      "[nltk_data] Error loading stopwords: <urlopen error [SSL:\n",
      "[nltk_data]     CERTIFICATE_VERIFY_FAILED] certificate verify failed\n",
      "[nltk_data]     (_ssl.c:852)>\n"
     ]
    }
   ],
   "source": [
    "from src.factorization_machines import TrainFactorizationMachines\n",
    "from src.factorization_machines import FactorizationMachinesPrediction"
   ]
  },
  {
   "cell_type": "code",
   "execution_count": 3,
   "metadata": {},
   "outputs": [
    {
     "data": {
      "text/html": [
       "<div>\n",
       "<style scoped>\n",
       "    .dataframe tbody tr th:only-of-type {\n",
       "        vertical-align: middle;\n",
       "    }\n",
       "\n",
       "    .dataframe tbody tr th {\n",
       "        vertical-align: top;\n",
       "    }\n",
       "\n",
       "    .dataframe thead th {\n",
       "        text-align: right;\n",
       "    }\n",
       "</style>\n",
       "<table border=\"1\" class=\"dataframe\">\n",
       "  <thead>\n",
       "    <tr style=\"text-align: right;\">\n",
       "      <th></th>\n",
       "      <th>user1</th>\n",
       "      <th>user2</th>\n",
       "      <th>item1</th>\n",
       "      <th>item2</th>\n",
       "      <th>item3</th>\n",
       "      <th>f1</th>\n",
       "      <th>f2</th>\n",
       "    </tr>\n",
       "  </thead>\n",
       "  <tbody>\n",
       "    <tr>\n",
       "      <th>0</th>\n",
       "      <td>1.0</td>\n",
       "      <td>0.0</td>\n",
       "      <td>1.0</td>\n",
       "      <td>0.0</td>\n",
       "      <td>0.0</td>\n",
       "      <td>0.915008</td>\n",
       "      <td>0.195429</td>\n",
       "    </tr>\n",
       "    <tr>\n",
       "      <th>1</th>\n",
       "      <td>1.0</td>\n",
       "      <td>0.0</td>\n",
       "      <td>0.0</td>\n",
       "      <td>1.0</td>\n",
       "      <td>0.0</td>\n",
       "      <td>0.116372</td>\n",
       "      <td>0.413444</td>\n",
       "    </tr>\n",
       "    <tr>\n",
       "      <th>2</th>\n",
       "      <td>1.0</td>\n",
       "      <td>0.0</td>\n",
       "      <td>0.0</td>\n",
       "      <td>0.0</td>\n",
       "      <td>1.0</td>\n",
       "      <td>0.431795</td>\n",
       "      <td>0.051354</td>\n",
       "    </tr>\n",
       "    <tr>\n",
       "      <th>3</th>\n",
       "      <td>0.0</td>\n",
       "      <td>1.0</td>\n",
       "      <td>1.0</td>\n",
       "      <td>0.0</td>\n",
       "      <td>0.0</td>\n",
       "      <td>0.516983</td>\n",
       "      <td>0.233969</td>\n",
       "    </tr>\n",
       "    <tr>\n",
       "      <th>4</th>\n",
       "      <td>0.0</td>\n",
       "      <td>1.0</td>\n",
       "      <td>0.0</td>\n",
       "      <td>1.0</td>\n",
       "      <td>0.0</td>\n",
       "      <td>0.435678</td>\n",
       "      <td>0.720143</td>\n",
       "    </tr>\n",
       "  </tbody>\n",
       "</table>\n",
       "</div>"
      ],
      "text/plain": [
       "   user1  user2  item1  item2  item3        f1        f2\n",
       "0    1.0    0.0    1.0    0.0    0.0  0.915008  0.195429\n",
       "1    1.0    0.0    0.0    1.0    0.0  0.116372  0.413444\n",
       "2    1.0    0.0    0.0    0.0    1.0  0.431795  0.051354\n",
       "3    0.0    1.0    1.0    0.0    0.0  0.516983  0.233969\n",
       "4    0.0    1.0    0.0    1.0    0.0  0.435678  0.720143"
      ]
     },
     "execution_count": 3,
     "metadata": {},
     "output_type": "execute_result"
    }
   ],
   "source": [
    "X_train = pd.DataFrame([[0]*5, [0]*5, [0]*5, [0]*5, [0]*5, np.random.rand(1, 5)[0], np.random.rand(1, 5)[0]]).T\n",
    "X_train.columns = [\"user1\", \"user2\", \"item1\", \"item2\", \"item3\", \"f1\", \"f2\"]\n",
    "X_train.loc[[0,1,2], \"user1\"] = 1\n",
    "X_train.loc[[3,4], \"user2\"] = 1\n",
    "X_train.loc[0, \"item1\"] = 1\n",
    "X_train.loc[1, \"item2\"] = 1\n",
    "X_train.loc[2, \"item3\"] = 1\n",
    "X_train.loc[3, \"item1\"] = 1\n",
    "X_train.loc[4, \"item2\"] = 1\n",
    "X_train"
   ]
  },
  {
   "cell_type": "code",
   "execution_count": 4,
   "metadata": {},
   "outputs": [
    {
     "data": {
      "text/plain": [
       "0    1\n",
       "1   -1\n",
       "2    1\n",
       "3    1\n",
       "4   -1\n",
       "dtype: int64"
      ]
     },
     "execution_count": 4,
     "metadata": {},
     "output_type": "execute_result"
    }
   ],
   "source": [
    "y_train = pd.Series([1, -1, 1, 1, -1])\n",
    "y_train"
   ]
  },
  {
   "cell_type": "code",
   "execution_count": 5,
   "metadata": {},
   "outputs": [],
   "source": [
    "fm, feature_names = TrainFactorizationMachines.fit_classification(X_train, y_train, method=\"sgd\", step_size=0.1)"
   ]
  },
  {
   "cell_type": "code",
   "execution_count": 6,
   "metadata": {},
   "outputs": [
    {
     "data": {
      "text/plain": [
       "{'items': ['item1', 'item3', 'item2'], 'score': [0.91506, 0.79255, 0.07717]}"
      ]
     },
     "execution_count": 6,
     "metadata": {},
     "output_type": "execute_result"
    }
   ],
   "source": [
    "observed_features = {\"f1\":0.5, \"f2\":0.4}\n",
    "items = ['item1', 'item2', 'item3']\n",
    "\n",
    "FM = FactorizationMachinesPrediction(items, feature_names, fm)\n",
    "\n",
    "FM.predict_classification(userid=\"user2\", observed_features=observed_features, n=3)"
   ]
  }
 ],
 "metadata": {
  "kernelspec": {
   "display_name": "rec_engines_2",
   "language": "python",
   "name": "rec_engines_2"
  },
  "language_info": {
   "codemirror_mode": {
    "name": "ipython",
    "version": 3
   },
   "file_extension": ".py",
   "mimetype": "text/x-python",
   "name": "python",
   "nbconvert_exporter": "python",
   "pygments_lexer": "ipython3",
   "version": "3.6.8"
  }
 },
 "nbformat": 4,
 "nbformat_minor": 2
}
