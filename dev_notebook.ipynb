{
 "cells": [
  {
   "cell_type": "markdown",
   "metadata": {},
   "source": [
    "# Dev Notebook\n",
    "A place to develop and test code."
   ]
  },
  {
   "cell_type": "markdown",
   "metadata": {},
   "source": [
    "# Content Recommender"
   ]
  },
  {
   "cell_type": "code",
   "execution_count": 1,
   "metadata": {},
   "outputs": [],
   "source": [
    "import pandas as pd\n",
    "import numpy as np"
   ]
  },
  {
   "cell_type": "code",
   "execution_count": 2,
   "metadata": {},
   "outputs": [
    {
     "name": "stderr",
     "output_type": "stream",
     "text": [
      "[nltk_data] Error loading stopwords: <urlopen error [SSL:\n",
      "[nltk_data]     CERTIFICATE_VERIFY_FAILED] certificate verify failed\n",
      "[nltk_data]     (_ssl.c:852)>\n"
     ]
    }
   ],
   "source": [
    "from src.content_filtering import ContentRecommender"
   ]
  },
  {
   "cell_type": "code",
   "execution_count": 3,
   "metadata": {},
   "outputs": [
    {
     "data": {
      "text/html": [
       "<div>\n",
       "<style scoped>\n",
       "    .dataframe tbody tr th:only-of-type {\n",
       "        vertical-align: middle;\n",
       "    }\n",
       "\n",
       "    .dataframe tbody tr th {\n",
       "        vertical-align: top;\n",
       "    }\n",
       "\n",
       "    .dataframe thead th {\n",
       "        text-align: right;\n",
       "    }\n",
       "</style>\n",
       "<table border=\"1\" class=\"dataframe\">\n",
       "  <thead>\n",
       "    <tr style=\"text-align: right;\">\n",
       "      <th></th>\n",
       "      <th>f1</th>\n",
       "      <th>f2</th>\n",
       "    </tr>\n",
       "  </thead>\n",
       "  <tbody>\n",
       "    <tr>\n",
       "      <th>0</th>\n",
       "      <td>0.114844</td>\n",
       "      <td>0.714743</td>\n",
       "    </tr>\n",
       "    <tr>\n",
       "      <th>1</th>\n",
       "      <td>0.558880</td>\n",
       "      <td>0.437592</td>\n",
       "    </tr>\n",
       "    <tr>\n",
       "      <th>2</th>\n",
       "      <td>0.362028</td>\n",
       "      <td>0.880659</td>\n",
       "    </tr>\n",
       "    <tr>\n",
       "      <th>3</th>\n",
       "      <td>0.609093</td>\n",
       "      <td>0.149809</td>\n",
       "    </tr>\n",
       "    <tr>\n",
       "      <th>4</th>\n",
       "      <td>0.120615</td>\n",
       "      <td>0.606468</td>\n",
       "    </tr>\n",
       "  </tbody>\n",
       "</table>\n",
       "</div>"
      ],
      "text/plain": [
       "         f1        f2\n",
       "0  0.114844  0.714743\n",
       "1  0.558880  0.437592\n",
       "2  0.362028  0.880659\n",
       "3  0.609093  0.149809\n",
       "4  0.120615  0.606468"
      ]
     },
     "execution_count": 3,
     "metadata": {},
     "output_type": "execute_result"
    }
   ],
   "source": [
    "df = pd.DataFrame([np.random.rand(1, 20)[0], np.random.rand(1, 20)[0]]).T\n",
    "df.columns = [\"f1\", \"f2\"]\n",
    "df.head()"
   ]
  },
  {
   "cell_type": "code",
   "execution_count": 4,
   "metadata": {},
   "outputs": [
    {
     "data": {
      "text/plain": [
       "{'similar_items': [0, 19, 4, 2, 6, 11, 14, 12, 17, 10],\n",
       " 'score': array([1.     , 0.92858, 0.88595, 0.5869 , 0.56439, 0.50751, 0.4582 ,\n",
       "        0.44293, 0.42295, 0.39225])}"
      ]
     },
     "execution_count": 4,
     "metadata": {},
     "output_type": "execute_result"
    }
   ],
   "source": [
    "CF = ContentRecommender()\n",
    "CF.predict(seed_item=0, feature_matrix=df, similarity_metric=\"manhattan\", n=10)"
   ]
  },
  {
   "cell_type": "markdown",
   "metadata": {},
   "source": [
    "# Factorization Machines"
   ]
  },
  {
   "cell_type": "code",
   "execution_count": 5,
   "metadata": {},
   "outputs": [],
   "source": [
    "from src.factorization_machines import TrainFactorizationMachines\n",
    "from src.factorization_machines import FactorizationMachinesPrediction"
   ]
  },
  {
   "cell_type": "code",
   "execution_count": 6,
   "metadata": {},
   "outputs": [
    {
     "data": {
      "text/html": [
       "<div>\n",
       "<style scoped>\n",
       "    .dataframe tbody tr th:only-of-type {\n",
       "        vertical-align: middle;\n",
       "    }\n",
       "\n",
       "    .dataframe tbody tr th {\n",
       "        vertical-align: top;\n",
       "    }\n",
       "\n",
       "    .dataframe thead th {\n",
       "        text-align: right;\n",
       "    }\n",
       "</style>\n",
       "<table border=\"1\" class=\"dataframe\">\n",
       "  <thead>\n",
       "    <tr style=\"text-align: right;\">\n",
       "      <th></th>\n",
       "      <th>user1</th>\n",
       "      <th>user2</th>\n",
       "      <th>item1</th>\n",
       "      <th>item2</th>\n",
       "      <th>item3</th>\n",
       "      <th>f1</th>\n",
       "      <th>f2</th>\n",
       "    </tr>\n",
       "  </thead>\n",
       "  <tbody>\n",
       "    <tr>\n",
       "      <th>0</th>\n",
       "      <td>1.0</td>\n",
       "      <td>0.0</td>\n",
       "      <td>1.0</td>\n",
       "      <td>0.0</td>\n",
       "      <td>0.0</td>\n",
       "      <td>0.144820</td>\n",
       "      <td>0.833181</td>\n",
       "    </tr>\n",
       "    <tr>\n",
       "      <th>1</th>\n",
       "      <td>1.0</td>\n",
       "      <td>0.0</td>\n",
       "      <td>0.0</td>\n",
       "      <td>1.0</td>\n",
       "      <td>0.0</td>\n",
       "      <td>0.596740</td>\n",
       "      <td>0.468278</td>\n",
       "    </tr>\n",
       "    <tr>\n",
       "      <th>2</th>\n",
       "      <td>1.0</td>\n",
       "      <td>0.0</td>\n",
       "      <td>0.0</td>\n",
       "      <td>0.0</td>\n",
       "      <td>1.0</td>\n",
       "      <td>0.768105</td>\n",
       "      <td>0.426262</td>\n",
       "    </tr>\n",
       "    <tr>\n",
       "      <th>3</th>\n",
       "      <td>0.0</td>\n",
       "      <td>1.0</td>\n",
       "      <td>1.0</td>\n",
       "      <td>0.0</td>\n",
       "      <td>0.0</td>\n",
       "      <td>0.840585</td>\n",
       "      <td>0.339524</td>\n",
       "    </tr>\n",
       "    <tr>\n",
       "      <th>4</th>\n",
       "      <td>0.0</td>\n",
       "      <td>1.0</td>\n",
       "      <td>0.0</td>\n",
       "      <td>1.0</td>\n",
       "      <td>0.0</td>\n",
       "      <td>0.453207</td>\n",
       "      <td>0.381295</td>\n",
       "    </tr>\n",
       "  </tbody>\n",
       "</table>\n",
       "</div>"
      ],
      "text/plain": [
       "   user1  user2  item1  item2  item3        f1        f2\n",
       "0    1.0    0.0    1.0    0.0    0.0  0.144820  0.833181\n",
       "1    1.0    0.0    0.0    1.0    0.0  0.596740  0.468278\n",
       "2    1.0    0.0    0.0    0.0    1.0  0.768105  0.426262\n",
       "3    0.0    1.0    1.0    0.0    0.0  0.840585  0.339524\n",
       "4    0.0    1.0    0.0    1.0    0.0  0.453207  0.381295"
      ]
     },
     "execution_count": 6,
     "metadata": {},
     "output_type": "execute_result"
    }
   ],
   "source": [
    "X_train = pd.DataFrame([[0]*5, [0]*5, [0]*5, [0]*5, [0]*5, np.random.rand(1, 5)[0], np.random.rand(1, 5)[0]]).T\n",
    "X_train.columns = [\"user1\", \"user2\", \"item1\", \"item2\", \"item3\", \"f1\", \"f2\"]\n",
    "X_train.loc[[0,1,2], \"user1\"] = 1\n",
    "X_train.loc[[3,4], \"user2\"] = 1\n",
    "X_train.loc[0, \"item1\"] = 1\n",
    "X_train.loc[1, \"item2\"] = 1\n",
    "X_train.loc[2, \"item3\"] = 1\n",
    "X_train.loc[3, \"item1\"] = 1\n",
    "X_train.loc[4, \"item2\"] = 1\n",
    "X_train"
   ]
  },
  {
   "cell_type": "code",
   "execution_count": 7,
   "metadata": {},
   "outputs": [
    {
     "data": {
      "text/plain": [
       "0    1\n",
       "1   -1\n",
       "2    1\n",
       "3    1\n",
       "4   -1\n",
       "dtype: int64"
      ]
     },
     "execution_count": 7,
     "metadata": {},
     "output_type": "execute_result"
    }
   ],
   "source": [
    "y_train = pd.Series([1, -1, 1, 1, -1])\n",
    "y_train"
   ]
  },
  {
   "cell_type": "code",
   "execution_count": 8,
   "metadata": {},
   "outputs": [],
   "source": [
    "fm, feature_names = TrainFactorizationMachines.fit_classification(X_train, y_train, method=\"sgd\", step_size=0.1)"
   ]
  },
  {
   "cell_type": "code",
   "execution_count": 9,
   "metadata": {},
   "outputs": [
    {
     "data": {
      "text/plain": [
       "{'items': ['item1', 'item3', 'item2'], 'score': [0.90311, 0.7792, 0.05311]}"
      ]
     },
     "execution_count": 9,
     "metadata": {},
     "output_type": "execute_result"
    }
   ],
   "source": [
    "observed_features = {\"f1\":0.5, \"f2\":0.4}\n",
    "items = ['item1', 'item2', 'item3']\n",
    "\n",
    "FM = FactorizationMachinesPrediction(items, feature_names, fm)\n",
    "\n",
    "FM.predict_classification(userid=\"user2\", observed_features=observed_features, n=3)"
   ]
  },
  {
   "cell_type": "markdown",
   "metadata": {},
   "source": [
    "# Feature Engineering"
   ]
  },
  {
   "cell_type": "code",
   "execution_count": null,
   "metadata": {},
   "outputs": [],
   "source": [
    "from src.feature_engineering import Embeddings, DataCleaning"
   ]
  },
  {
   "cell_type": "code",
   "execution_count": null,
   "metadata": {},
   "outputs": [],
   "source": [
    "df = pd.DataFrame([\"this is a example about cats\", \n",
    "                   \"cats are super cute\", \n",
    "                   \"Cats are on sale today! Get one\", \n",
    "                   \"Kittens are the best cats\", \n",
    "                   \"I like cats better than dogs\", \n",
    "                   \"smart cats can type emails\", \n",
    "                   \"cats normally don't like going for walks.\", \n",
    "                   \"What makes cats smart?\", \n",
    "                   \"are all cats cute?\", \n",
    "                   \"dogs are kinda smart though\"])\n",
    "df.columns = [\"document\"]\n",
    "df.head()"
   ]
  },
  {
   "cell_type": "code",
   "execution_count": null,
   "metadata": {},
   "outputs": [],
   "source": [
    "tfidf_matrix, _ = Embeddings.tfidf_vectorizer(df[\"document\"])\n",
    "tfidf_matrix"
   ]
  },
  {
   "cell_type": "code",
   "execution_count": null,
   "metadata": {},
   "outputs": [],
   "source": [
    "svd_matrix, _ = Embeddings.svd(tfidf_matrix, 2)\n",
    "svd_matrix"
   ]
  },
  {
   "cell_type": "code",
   "execution_count": null,
   "metadata": {},
   "outputs": [],
   "source": [
    "pca_matrix, _ = Embeddings.pca(tfidf_matrix, 2)\n",
    "pca_matrix"
   ]
  },
  {
   "cell_type": "code",
   "execution_count": null,
   "metadata": {},
   "outputs": [],
   "source": [
    "lsa_matrix, _, _ = Embeddings.lsa(df[\"document\"], n_components=2)\n",
    "lsa_matrix"
   ]
  },
  {
   "cell_type": "code",
   "execution_count": null,
   "metadata": {},
   "outputs": [],
   "source": [
    "document = df.document\n",
    "docvec_matrix, _ = Embeddings.doc_to_vec(document, 5)\n",
    "docvec_matrix"
   ]
  },
  {
   "cell_type": "code",
   "execution_count": null,
   "metadata": {},
   "outputs": [],
   "source": [
    "lda_matrix, _ = Embeddings.lda(df.document, ntopics=5, n=2)\n",
    "lda_matrix"
   ]
  },
  {
   "cell_type": "code",
   "execution_count": null,
   "metadata": {},
   "outputs": [],
   "source": []
  },
  {
   "cell_type": "code",
   "execution_count": null,
   "metadata": {},
   "outputs": [],
   "source": []
  }
 ],
 "metadata": {
  "kernelspec": {
   "display_name": "rec_engines_2",
   "language": "python",
   "name": "rec_engines_2"
  },
  "language_info": {
   "codemirror_mode": {
    "name": "ipython",
    "version": 3
   },
   "file_extension": ".py",
   "mimetype": "text/x-python",
   "name": "python",
   "nbconvert_exporter": "python",
   "pygments_lexer": "ipython3",
   "version": "3.6.8"
  }
 },
 "nbformat": 4,
 "nbformat_minor": 2
}
